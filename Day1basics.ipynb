{
  "nbformat": 4,
  "nbformat_minor": 0,
  "metadata": {
    "colab": {
      "name": "Day1basics.ipynb",
      "provenance": [],
      "collapsed_sections": [],
      "authorship_tag": "ABX9TyP4KpYQ3oPjmW0vpyD9jAqM",
      "include_colab_link": true
    },
    "kernelspec": {
      "name": "python3",
      "display_name": "Python 3"
    },
    "language_info": {
      "name": "python"
    }
  },
  "cells": [
    {
      "cell_type": "markdown",
      "metadata": {
        "id": "view-in-github",
        "colab_type": "text"
      },
      "source": [
        "<a href=\"https://colab.research.google.com/github/SamyG12/samyTTP/blob/main/Day1basics.ipynb\" target=\"_parent\"><img src=\"https://colab.research.google.com/assets/colab-badge.svg\" alt=\"Open In Colab\"/></a>"
      ]
    },
    {
      "cell_type": "markdown",
      "source": [
        "#Hello Python "
      ],
      "metadata": {
        "id": "VMnO7ggP0GZD"
      }
    },
    {
      "cell_type": "code",
      "execution_count": 14,
      "metadata": {
        "colab": {
          "base_uri": "https://localhost:8080/"
        },
        "id": "ngNMD7eahLy9",
        "outputId": "c0bc8a8a-e72a-4537-b491-78ba6b2c1435"
      },
      "outputs": [
        {
          "output_type": "stream",
          "name": "stdout",
          "text": [
            "hello world\n"
          ]
        }
      ],
      "source": [
        "print(\"hello world\")"
      ]
    },
    {
      "cell_type": "code",
      "source": [
        "import this"
      ],
      "metadata": {
        "id": "jf5P4Dniil7Q"
      },
      "execution_count": 15,
      "outputs": []
    },
    {
      "cell_type": "markdown",
      "source": [
        "#String Basics"
      ],
      "metadata": {
        "id": "IuUV11-r0D9u"
      }
    },
    {
      "cell_type": "code",
      "source": [
        "'this is a string'"
      ],
      "metadata": {
        "colab": {
          "base_uri": "https://localhost:8080/",
          "height": 37
        },
        "id": "f7fnSQE60Dxc",
        "outputId": "8d2d6a10-9cea-418d-b5a0-4a29dcce9e58"
      },
      "execution_count": 16,
      "outputs": [
        {
          "output_type": "execute_result",
          "data": {
            "application/vnd.google.colaboratory.intrinsic+json": {
              "type": "string"
            },
            "text/plain": [
              "'this is a string'"
            ]
          },
          "metadata": {},
          "execution_count": 16
        }
      ]
    },
    {
      "cell_type": "code",
      "source": [
        "s= 'String 2'\n",
        "len(s)"
      ],
      "metadata": {
        "colab": {
          "base_uri": "https://localhost:8080/"
        },
        "id": "k6zRdeVN0DoZ",
        "outputId": "d9da439b-44b6-4cbf-b7af-fd85c0f352b8"
      },
      "execution_count": 17,
      "outputs": [
        {
          "output_type": "execute_result",
          "data": {
            "text/plain": [
              "8"
            ]
          },
          "metadata": {},
          "execution_count": 17
        }
      ]
    },
    {
      "cell_type": "code",
      "source": [
        "len('String 3')"
      ],
      "metadata": {
        "colab": {
          "base_uri": "https://localhost:8080/"
        },
        "id": "7n6xKl6E0Dd7",
        "outputId": "bd3c35e4-452b-494f-a25a-5ee5d5c6b3a9"
      },
      "execution_count": 18,
      "outputs": [
        {
          "output_type": "execute_result",
          "data": {
            "text/plain": [
              "8"
            ]
          },
          "metadata": {},
          "execution_count": 18
        }
      ]
    },
    {
      "cell_type": "code",
      "source": [
        "'String name'\n",
        "g = 'String name'\n",
        "len(g)"
      ],
      "metadata": {
        "colab": {
          "base_uri": "https://localhost:8080/"
        },
        "id": "HU1tufSD0yIA",
        "outputId": "2901b0f4-3881-40d1-ae9c-96d8a9d02749"
      },
      "execution_count": 19,
      "outputs": [
        {
          "output_type": "execute_result",
          "data": {
            "text/plain": [
              "11"
            ]
          },
          "metadata": {},
          "execution_count": 19
        }
      ]
    },
    {
      "cell_type": "code",
      "source": [
        "'String 5'"
      ],
      "metadata": {
        "colab": {
          "base_uri": "https://localhost:8080/",
          "height": 37
        },
        "id": "BIsnol3r0yFh",
        "outputId": "8a818b56-2701-4c09-ebba-e522c4a873f8"
      },
      "execution_count": 20,
      "outputs": [
        {
          "output_type": "execute_result",
          "data": {
            "application/vnd.google.colaboratory.intrinsic+json": {
              "type": "string"
            },
            "text/plain": [
              "'String 5'"
            ]
          },
          "metadata": {},
          "execution_count": 20
        }
      ]
    },
    {
      "cell_type": "markdown",
      "source": [
        "##string indexing\n",
        "python can use indexes to call parts of the sequence. Let's learn how this works.\n",
        "\n",
        "In python, we use brackets [] after an object to call its index. we should also note that indexing starts at 0 for python. Let's create a new object called s and walk through a few example of indexing."
      ],
      "metadata": {
        "id": "TUEZoLYx0yDN"
      }
    },
    {
      "cell_type": "code",
      "source": [
        "g = 'String name'\n",
        "g[0]"
      ],
      "metadata": {
        "colab": {
          "base_uri": "https://localhost:8080/",
          "height": 37
        },
        "id": "I_zx2wAD0yAx",
        "outputId": "2fe81e5d-c009-46db-9f73-44000e843e77"
      },
      "execution_count": 21,
      "outputs": [
        {
          "output_type": "execute_result",
          "data": {
            "application/vnd.google.colaboratory.intrinsic+json": {
              "type": "string"
            },
            "text/plain": [
              "'S'"
            ]
          },
          "metadata": {},
          "execution_count": 21
        }
      ]
    },
    {
      "cell_type": "code",
      "source": [
        "g[1]"
      ],
      "metadata": {
        "colab": {
          "base_uri": "https://localhost:8080/",
          "height": 37
        },
        "id": "RvRS0MRZi3vL",
        "outputId": "6965ade2-a060-478a-afb6-8fb446f6bb0b"
      },
      "execution_count": 22,
      "outputs": [
        {
          "output_type": "execute_result",
          "data": {
            "application/vnd.google.colaboratory.intrinsic+json": {
              "type": "string"
            },
            "text/plain": [
              "'t'"
            ]
          },
          "metadata": {},
          "execution_count": 22
        }
      ]
    },
    {
      "cell_type": "code",
      "source": [
        "g[3]"
      ],
      "metadata": {
        "colab": {
          "base_uri": "https://localhost:8080/",
          "height": 37
        },
        "id": "AY_PlGRU7mHt",
        "outputId": "933671cd-dcfa-4247-c5d4-ef5b7db2423e"
      },
      "execution_count": 24,
      "outputs": [
        {
          "output_type": "execute_result",
          "data": {
            "application/vnd.google.colaboratory.intrinsic+json": {
              "type": "string"
            },
            "text/plain": [
              "'i'"
            ]
          },
          "metadata": {},
          "execution_count": 24
        }
      ]
    },
    {
      "cell_type": "markdown",
      "source": [
        "##concatination of strings "
      ],
      "metadata": {
        "id": "zBROG9Nx7o31"
      }
    },
    {
      "cell_type": "code",
      "source": [
        "greeting = ' Hello '\n",
        "Name = 'Samy'\n",
        "print(greeting + Name)\n",
        "print(greeting + ' ' + Name)"
      ],
      "metadata": {
        "colab": {
          "base_uri": "https://localhost:8080/"
        },
        "id": "nmaNh044cT6e",
        "outputId": "90a43cbb-600d-46f7-a69e-e6c9166eb00a"
      },
      "execution_count": 26,
      "outputs": [
        {
          "output_type": "stream",
          "name": "stdout",
          "text": [
            " Hello Samy\n",
            " Hello  Samy\n"
          ]
        }
      ]
    },
    {
      "cell_type": "code",
      "source": [
        ""
      ],
      "metadata": {
        "id": "Jq4Q8sxecTtF"
      },
      "execution_count": null,
      "outputs": []
    },
    {
      "cell_type": "markdown",
      "source": [
        "##input function"
      ],
      "metadata": {
        "id": "TyUzUdricTpB"
      }
    },
    {
      "cell_type": "code",
      "source": [
        "greeting = 'Hello'\n",
        "name = input('input your name')\n",
        "\n",
        "print(greeting +\" \"+ name)\n"
      ],
      "metadata": {
        "colab": {
          "base_uri": "https://localhost:8080/"
        },
        "id": "_OQrBAzScoMl",
        "outputId": "63f32515-9989-43cd-f179-fcdf5ec04575"
      },
      "execution_count": 29,
      "outputs": [
        {
          "output_type": "stream",
          "name": "stdout",
          "text": [
            "input your nameSamy\n",
            "Hello Samy\n"
          ]
        }
      ]
    },
    {
      "cell_type": "code",
      "source": [
        "name = input(' Please input your name ')\n",
        "age = input('Please input your age ')\n",
        "city = input('Where are you from ')\n",
        "\n",
        "print('Hello ' + name +\", your age is \"+ age + 'you are from '+ city)"
      ],
      "metadata": {
        "colab": {
          "base_uri": "https://localhost:8080/"
        },
        "id": "HgSNsJn6eJHR",
        "outputId": "2034667f-2018-4b83-eb10-9efaad9d9656"
      },
      "execution_count": 34,
      "outputs": [
        {
          "output_type": "stream",
          "name": "stdout",
          "text": [
            " Please input your name Samy\n",
            "Please input your age Gadi\n",
            "Where are you from NY\n",
            "Hello Samy, your age is Gadiyou are from NY\n"
          ]
        }
      ]
    },
    {
      "cell_type": "code",
      "source": [
        "print(\"Hi there, {}, you are {}\".format(\"Samy\", \"25\"))"
      ],
      "metadata": {
        "colab": {
          "base_uri": "https://localhost:8080/"
        },
        "id": "JGFABQnWfYYh",
        "outputId": "d0452718-2a73-42d7-d179-4d9ea078a7bd"
      },
      "execution_count": 35,
      "outputs": [
        {
          "output_type": "stream",
          "name": "stdout",
          "text": [
            "Hi there, Samy, you are 25\n"
          ]
        }
      ]
    },
    {
      "cell_type": "code",
      "source": [
        "print(\"colors are {r} {g} {b}\".format(r=\"red\", g=\"Green\", b=\"Blue\"))"
      ],
      "metadata": {
        "colab": {
          "base_uri": "https://localhost:8080/"
        },
        "id": "r_5-ZVx5h8kQ",
        "outputId": "f8304a29-239c-4640-83d6-e0bc2f42b2da"
      },
      "execution_count": 36,
      "outputs": [
        {
          "output_type": "stream",
          "name": "stdout",
          "text": [
            "colors are red Green Blue\n"
          ]
        }
      ]
    },
    {
      "cell_type": "code",
      "source": [
        "print(\"Colors are {2} {2} {2}\".format(\"Red\", \"Green\", \"Blue\"))"
      ],
      "metadata": {
        "colab": {
          "base_uri": "https://localhost:8080/"
        },
        "id": "PekMIvPci-EQ",
        "outputId": "d11fef0b-7d24-4339-ab0b-a4a638b04481"
      },
      "execution_count": 37,
      "outputs": [
        {
          "output_type": "stream",
          "name": "stdout",
          "text": [
            "Colors are Blue Blue Blue\n"
          ]
        }
      ]
    },
    {
      "cell_type": "markdown",
      "source": [
        "##Numbers"
      ],
      "metadata": {
        "id": "KBZGhaM4jOQn"
      }
    },
    {
      "cell_type": "code",
      "source": [
        "a = 14\n",
        "print(a)"
      ],
      "metadata": {
        "colab": {
          "base_uri": "https://localhost:8080/"
        },
        "id": "ZJIdVWMYje9I",
        "outputId": "02db0734-c5c4-4446-e2b6-5917d4452332"
      },
      "execution_count": 38,
      "outputs": [
        {
          "output_type": "stream",
          "name": "stdout",
          "text": [
            "14\n"
          ]
        }
      ]
    },
    {
      "cell_type": "code",
      "source": [
        "b = 4\n",
        "print(b)"
      ],
      "metadata": {
        "colab": {
          "base_uri": "https://localhost:8080/"
        },
        "id": "V4FTOgAvjlCB",
        "outputId": "a101e59c-7892-4a47-aa4d-30cc5409336f"
      },
      "execution_count": 39,
      "outputs": [
        {
          "output_type": "stream",
          "name": "stdout",
          "text": [
            "4\n"
          ]
        }
      ]
    },
    {
      "cell_type": "code",
      "source": [
        "print(a+b)"
      ],
      "metadata": {
        "colab": {
          "base_uri": "https://localhost:8080/"
        },
        "id": "VHnTfO7Njth8",
        "outputId": "86cf606b-2b50-4135-fa1f-19bcae6fdd14"
      },
      "execution_count": 40,
      "outputs": [
        {
          "output_type": "stream",
          "name": "stdout",
          "text": [
            "18\n"
          ]
        }
      ]
    },
    {
      "cell_type": "code",
      "source": [
        "print(a-b)"
      ],
      "metadata": {
        "colab": {
          "base_uri": "https://localhost:8080/"
        },
        "id": "gv57B5RcjwBw",
        "outputId": "b93cc900-f5bf-4edb-9dea-0b666e8e4e7a"
      },
      "execution_count": 41,
      "outputs": [
        {
          "output_type": "stream",
          "name": "stdout",
          "text": [
            "10\n"
          ]
        }
      ]
    },
    {
      "cell_type": "code",
      "source": [
        "print(a*b)"
      ],
      "metadata": {
        "colab": {
          "base_uri": "https://localhost:8080/"
        },
        "id": "i1XKPJOmjxxk",
        "outputId": "71578343-f499-46b7-fee8-5fb541021a36"
      },
      "execution_count": 42,
      "outputs": [
        {
          "output_type": "stream",
          "name": "stdout",
          "text": [
            "56\n"
          ]
        }
      ]
    },
    {
      "cell_type": "code",
      "source": [
        ""
      ],
      "metadata": {
        "id": "YjrINxGAj0aZ"
      },
      "execution_count": null,
      "outputs": []
    }
  ]
}